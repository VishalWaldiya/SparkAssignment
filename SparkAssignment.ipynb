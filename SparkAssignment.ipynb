{
 "cells": [
  {
   "cell_type": "code",
   "execution_count": 1,
   "metadata": {},
   "outputs": [],
   "source": [
    "import pyspark\n",
    "import pyspark.sql.functions as f\n",
    "from pyspark.sql import SparkSession\n",
    "from pyspark.sql.functions import col, asc\n",
    "from pyspark.sql.functions import udf\n",
    "from pyspark.sql.types import IntegerType,StringType\n",
    "import re\n",
    "import time\n",
    "sc = pyspark.SparkContext(appName=\"test\")\n",
    "\n",
    "spark = SparkSession(sc)\n",
    "\n",
    "moviesdf = spark.read.csv(\"/home/spark/Documents/spark/Dataset/ml-latest-small/movies.csv\" , header=True)\n",
    "ratingsdf = spark.read.csv(\"/home/spark/Documents/spark/Dataset/ml-latest-small/ratings.csv\" , header=True)\n",
    "linksdf = spark.read.csv(\"/home/spark/Documents/spark/Dataset/ml-latest-small/links.csv\" , header=True)\n",
    "tagsdf = spark.read.csv(\"/home/spark/Documents/spark/Dataset/ml-latest-small/tags.csv\" , header=True)"
   ]
  },
  {
   "cell_type": "markdown",
   "metadata": {},
   "source": [
    "# Problem 1 "
   ]
  },
  {
   "cell_type": "markdown",
   "metadata": {},
   "source": [
    "## How many “Drama” movies (movies with the \"Drama\" genre) are there? "
   ]
  },
  {
   "cell_type": "code",
   "execution_count": 2,
   "metadata": {
    "scrolled": true
   },
   "outputs": [
    {
     "name": "stdout",
     "output_type": "stream",
     "text": [
      "+-------+--------------------+--------------------+\n",
      "|movieId|               title|              genres|\n",
      "+-------+--------------------+--------------------+\n",
      "|      1|    Toy Story (1995)|Adventure|Animati...|\n",
      "|      2|      Jumanji (1995)|Adventure|Childre...|\n",
      "|      3|Grumpier Old Men ...|      Comedy|Romance|\n",
      "|      4|Waiting to Exhale...|Comedy|Drama|Romance|\n",
      "|      5|Father of the Bri...|              Comedy|\n",
      "+-------+--------------------+--------------------+\n",
      "only showing top 5 rows\n",
      "\n"
     ]
    }
   ],
   "source": [
    "moviesdf.show(5)"
   ]
  },
  {
   "cell_type": "code",
   "execution_count": 3,
   "metadata": {},
   "outputs": [
    {
     "data": {
      "text/plain": [
       "4361"
      ]
     },
     "execution_count": 3,
     "metadata": {},
     "output_type": "execute_result"
    }
   ],
   "source": [
    "moviesdf.filter(col(\"genres\").contains('Drama')).count()"
   ]
  },
  {
   "cell_type": "code",
   "execution_count": 4,
   "metadata": {
    "scrolled": true
   },
   "outputs": [
    {
     "name": "stdout",
     "output_type": "stream",
     "text": [
      "+-------+--------------------+--------------------+\n",
      "|movieId|               title|              genres|\n",
      "+-------+--------------------+--------------------+\n",
      "|      4|Waiting to Exhale...|Comedy|Drama|Romance|\n",
      "|     11|American Presiden...|Comedy|Drama|Romance|\n",
      "|     14|        Nixon (1995)|               Drama|\n",
      "|     16|       Casino (1995)|         Crime|Drama|\n",
      "|     17|Sense and Sensibi...|       Drama|Romance|\n",
      "|     20|  Money Train (1995)|Action|Comedy|Cri...|\n",
      "|     22|      Copycat (1995)|Crime|Drama|Horro...|\n",
      "|     24|       Powder (1995)|        Drama|Sci-Fi|\n",
      "|     25|Leaving Las Vegas...|       Drama|Romance|\n",
      "|     26|      Othello (1995)|               Drama|\n",
      "|     27| Now and Then (1995)|      Children|Drama|\n",
      "|     28|   Persuasion (1995)|       Drama|Romance|\n",
      "|     29|City of Lost Chil...|Adventure|Drama|F...|\n",
      "|     30|Shanghai Triad (Y...|         Crime|Drama|\n",
      "|     31|Dangerous Minds (...|               Drama|\n",
      "|     34|         Babe (1995)|      Children|Drama|\n",
      "|     36|Dead Man Walking ...|         Crime|Drama|\n",
      "|     40|Cry, the Beloved ...|               Drama|\n",
      "|     41|  Richard III (1995)|           Drama|War|\n",
      "|     42|Dead Presidents (...|  Action|Crime|Drama|\n",
      "+-------+--------------------+--------------------+\n",
      "only showing top 20 rows\n",
      "\n"
     ]
    }
   ],
   "source": [
    "moviesdf.filter(col(\"genres\").contains('Drama')).show()"
   ]
  },
  {
   "cell_type": "markdown",
   "metadata": {},
   "source": [
    "### Solution"
   ]
  },
  {
   "cell_type": "code",
   "execution_count": 5,
   "metadata": {},
   "outputs": [
    {
     "data": {
      "text/plain": [
       "4361"
      ]
     },
     "execution_count": 5,
     "metadata": {},
     "output_type": "execute_result"
    }
   ],
   "source": [
    "moviesdf.filter(col(\"genres\").contains('Drama')).count()"
   ]
  },
  {
   "cell_type": "markdown",
   "metadata": {},
   "source": [
    "# Problem 2"
   ]
  },
  {
   "cell_type": "markdown",
   "metadata": {},
   "source": [
    "## How many unique movies are rated, how many are not rated?"
   ]
  },
  {
   "cell_type": "code",
   "execution_count": 6,
   "metadata": {},
   "outputs": [
    {
     "data": {
      "text/plain": [
       "100836"
      ]
     },
     "execution_count": 6,
     "metadata": {},
     "output_type": "execute_result"
    }
   ],
   "source": [
    "ratingsdf.count()"
   ]
  },
  {
   "cell_type": "code",
   "execution_count": 7,
   "metadata": {
    "scrolled": true
   },
   "outputs": [
    {
     "name": "stdout",
     "output_type": "stream",
     "text": [
      "+------+-------+------+---------+\n",
      "|userId|movieId|rating|timestamp|\n",
      "+------+-------+------+---------+\n",
      "|     1|      1|   4.0|964982703|\n",
      "|     1|      3|   4.0|964981247|\n",
      "|     1|      6|   4.0|964982224|\n",
      "|     1|     47|   5.0|964983815|\n",
      "|     1|     50|   5.0|964982931|\n",
      "|     1|     70|   3.0|964982400|\n",
      "|     1|    101|   5.0|964980868|\n",
      "|     1|    110|   4.0|964982176|\n",
      "|     1|    151|   5.0|964984041|\n",
      "|     1|    157|   5.0|964984100|\n",
      "|     1|    163|   5.0|964983650|\n",
      "|     1|    216|   5.0|964981208|\n",
      "|     1|    223|   3.0|964980985|\n",
      "|     1|    231|   5.0|964981179|\n",
      "|     1|    235|   4.0|964980908|\n",
      "|     1|    260|   5.0|964981680|\n",
      "|     1|    296|   3.0|964982967|\n",
      "|     1|    316|   3.0|964982310|\n",
      "|     1|    333|   5.0|964981179|\n",
      "|     1|    349|   4.0|964982563|\n",
      "+------+-------+------+---------+\n",
      "only showing top 20 rows\n",
      "\n"
     ]
    }
   ],
   "source": [
    "ratingsdf.where(col(\"rating\").isNotNull()).show()"
   ]
  },
  {
   "cell_type": "code",
   "execution_count": 70,
   "metadata": {
    "scrolled": true
   },
   "outputs": [
    {
     "name": "stdout",
     "output_type": "stream",
     "text": [
      "+-------+\n",
      "|movieId|\n",
      "+-------+\n",
      "|    296|\n",
      "|   1090|\n",
      "| 115713|\n",
      "|   3210|\n",
      "|  88140|\n",
      "|    829|\n",
      "|   2088|\n",
      "|   2294|\n",
      "|   4821|\n",
      "|  48738|\n",
      "|   3959|\n",
      "|  89864|\n",
      "|   2136|\n",
      "|    691|\n",
      "|   3606|\n",
      "| 121007|\n",
      "|   6731|\n",
      "|  27317|\n",
      "|  26082|\n",
      "| 100553|\n",
      "+-------+\n",
      "only showing top 20 rows\n",
      "\n"
     ]
    }
   ],
   "source": [
    "ratingsdf.select(\"movieId\").distinct().show()"
   ]
  },
  {
   "cell_type": "markdown",
   "metadata": {},
   "source": [
    "##  SOlution"
   ]
  },
  {
   "cell_type": "code",
   "execution_count": 9,
   "metadata": {},
   "outputs": [
    {
     "data": {
      "text/plain": [
       "9724"
      ]
     },
     "execution_count": 9,
     "metadata": {},
     "output_type": "execute_result"
    }
   ],
   "source": [
    "ratingsdf.select(\"movieId\").distinct().count()"
   ]
  },
  {
   "cell_type": "markdown",
   "metadata": {},
   "source": [
    "# Problem 3"
   ]
  },
  {
   "cell_type": "markdown",
   "metadata": {},
   "source": [
    "## Who give the most ratings, how many rates did he make?"
   ]
  },
  {
   "cell_type": "code",
   "execution_count": 10,
   "metadata": {
    "scrolled": false
   },
   "outputs": [
    {
     "name": "stdout",
     "output_type": "stream",
     "text": [
      "+-------+------------------+----------------+------------------+--------------------+\n",
      "|summary|            userId|         movieId|            rating|           timestamp|\n",
      "+-------+------------------+----------------+------------------+--------------------+\n",
      "|  count|            100836|          100836|            100836|              100836|\n",
      "|   mean|326.12756356856676|19435.2957177992| 3.501556983616962|1.2059460873684695E9|\n",
      "| stddev| 182.6184914635004|35530.9871987003|1.0425292390606342|2.1626103599513078E8|\n",
      "|    min|                 1|               1|               0.5|          1000129365|\n",
      "|    max|                99|           99992|               5.0|           999873731|\n",
      "+-------+------------------+----------------+------------------+--------------------+\n",
      "\n"
     ]
    }
   ],
   "source": [
    "ratingsdf.describe().show()"
   ]
  },
  {
   "cell_type": "code",
   "execution_count": 11,
   "metadata": {},
   "outputs": [
    {
     "data": {
      "text/plain": [
       "100836"
      ]
     },
     "execution_count": 11,
     "metadata": {},
     "output_type": "execute_result"
    }
   ],
   "source": [
    "ratingsdf.where(col(\"userId\").isNotNull()).count()"
   ]
  },
  {
   "cell_type": "code",
   "execution_count": 12,
   "metadata": {
    "scrolled": true
   },
   "outputs": [
    {
     "name": "stdout",
     "output_type": "stream",
     "text": [
      "+------+-----+\n",
      "|userId|count|\n",
      "+------+-----+\n",
      "|   414| 2698|\n",
      "|   599| 2478|\n",
      "|   474| 2108|\n",
      "|   448| 1864|\n",
      "|   274| 1346|\n",
      "|   610| 1302|\n",
      "|    68| 1260|\n",
      "|   380| 1218|\n",
      "|   606| 1115|\n",
      "|   288| 1055|\n",
      "|   249| 1046|\n",
      "|   387| 1027|\n",
      "|   182|  977|\n",
      "|   307|  975|\n",
      "|   603|  943|\n",
      "|   298|  939|\n",
      "|   177|  904|\n",
      "|   318|  879|\n",
      "|   232|  862|\n",
      "|   480|  836|\n",
      "+------+-----+\n",
      "only showing top 20 rows\n",
      "\n"
     ]
    }
   ],
   "source": [
    "ratingsdf.cube(\"userId\").count().sort(f.desc('count')).where(col('userId').isNotNull()).show()"
   ]
  },
  {
   "cell_type": "markdown",
   "metadata": {},
   "source": [
    "## Solution"
   ]
  },
  {
   "cell_type": "code",
   "execution_count": 13,
   "metadata": {},
   "outputs": [
    {
     "name": "stdout",
     "output_type": "stream",
     "text": [
      "User 414 was the most aactive user with 2698 rating provided\n"
     ]
    }
   ],
   "source": [
    "user_who_rated_most = ratingsdf.cube(\"userId\").count().sort(f.desc('count')).where(col('userId').isNotNull()).first()\n",
    "print(\"User {} was the most aactive user with {} rating provided\".format(user_who_rated_most['userId'],user_who_rated_most['count']))"
   ]
  },
  {
   "cell_type": "markdown",
   "metadata": {},
   "source": [
    "# Problem 4"
   ]
  },
  {
   "cell_type": "markdown",
   "metadata": {},
   "source": [
    "## Compute min, average, max rating per movie."
   ]
  },
  {
   "cell_type": "markdown",
   "metadata": {},
   "source": [
    "## Solution"
   ]
  },
  {
   "cell_type": "code",
   "execution_count": 14,
   "metadata": {
    "scrolled": false
   },
   "outputs": [
    {
     "name": "stdout",
     "output_type": "stream",
     "text": [
      "+-------+-----------+------------------+-----------+\n",
      "|movieId|min(rating)|       avg(rating)|max(rating)|\n",
      "+-------+-----------+------------------+-----------+\n",
      "| 100553|        4.5|               4.5|        4.5|\n",
      "| 102684|        3.5|              3.75|        4.0|\n",
      "|   1090|        1.0| 3.984126984126984|        5.0|\n",
      "| 112911|        0.5|               2.0|        4.0|\n",
      "| 115713|        0.5|3.9107142857142856|        5.0|\n",
      "| 117630|        1.0|               1.0|        1.0|\n",
      "| 119655|        1.0|              2.25|        3.5|\n",
      "| 120478|        3.5| 4.333333333333333|        5.0|\n",
      "| 121007|        4.0|               4.0|        4.0|\n",
      "|   1572|        2.5|               3.0|        3.5|\n",
      "| 158813|        1.0|               2.0|        3.0|\n",
      "| 173535|        4.5|               4.5|        4.5|\n",
      "|   2069|        3.5|              4.25|        5.0|\n",
      "|   2088|        1.0|               2.5|        4.0|\n",
      "|   2136|        0.5|2.4642857142857144|        5.0|\n",
      "|   2162|        1.0|               2.5|        3.5|\n",
      "|   2294|        1.5|3.2444444444444445|        5.0|\n",
      "|  26082|        4.0|               4.5|        5.0|\n",
      "|  27317|        3.0|              3.75|        4.5|\n",
      "|    296|        0.5| 4.197068403908795|        5.0|\n",
      "+-------+-----------+------------------+-----------+\n",
      "only showing top 20 rows\n",
      "\n"
     ]
    }
   ],
   "source": [
    "ratingsdf.groupby(col('movieId')).agg(f.min('rating'),f.avg('rating'),f.max('rating')).show()"
   ]
  },
  {
   "cell_type": "code",
   "execution_count": null,
   "metadata": {},
   "outputs": [],
   "source": []
  },
  {
   "cell_type": "markdown",
   "metadata": {},
   "source": [
    "# Problem 5"
   ]
  },
  {
   "cell_type": "markdown",
   "metadata": {},
   "source": [
    "## Output dataset containing users that have rated a movie but not tagged it."
   ]
  },
  {
   "cell_type": "code",
   "execution_count": 59,
   "metadata": {},
   "outputs": [],
   "source": [
    "users_who_rated_and_not_tagged = ratingsdf.join(tagsdf,['movieId'],how=\"left\")"
   ]
  },
  {
   "cell_type": "code",
   "execution_count": 60,
   "metadata": {
    "scrolled": true
   },
   "outputs": [
    {
     "data": {
      "text/plain": [
       "285762"
      ]
     },
     "execution_count": 60,
     "metadata": {},
     "output_type": "execute_result"
    }
   ],
   "source": [
    "users_who_rated_and_not_tagged.count()"
   ]
  },
  {
   "cell_type": "code",
   "execution_count": 61,
   "metadata": {},
   "outputs": [
    {
     "name": "stdout",
     "output_type": "stream",
     "text": [
      "+-------+------+------+---------+------+-----+----------+\n",
      "|movieId|userId|rating|timestamp|userId|  tag| timestamp|\n",
      "+-------+------+------+---------+------+-----+----------+\n",
      "|      1|     1|   4.0|964982703|   567|  fun|1525286013|\n",
      "|      1|     1|   4.0|964982703|   474|pixar|1137206825|\n",
      "|      1|     1|   4.0|964982703|   336|pixar|1139045764|\n",
      "|      3|     1|   4.0|964981247|   289|  old|1143424860|\n",
      "|      3|     1|   4.0|964981247|   289|moldy|1143424860|\n",
      "+-------+------+------+---------+------+-----+----------+\n",
      "only showing top 5 rows\n",
      "\n"
     ]
    }
   ],
   "source": [
    "users_who_rated_and_not_tagged.show(5)"
   ]
  },
  {
   "cell_type": "code",
   "execution_count": 62,
   "metadata": {
    "scrolled": false
   },
   "outputs": [
    {
     "name": "stdout",
     "output_type": "stream",
     "text": [
      "+-------+------+------+---------+------+---+---------+\n",
      "|movieId|userId|rating|timestamp|userId|tag|timestamp|\n",
      "+-------+------+------+---------+------+---+---------+\n",
      "+-------+------+------+---------+------+---+---------+\n",
      "\n"
     ]
    }
   ],
   "source": [
    "users_who_rated_and_not_tagged.filter(col('tag')==None).show(5)"
   ]
  },
  {
   "cell_type": "markdown",
   "metadata": {},
   "source": [
    "# Problem 6"
   ]
  },
  {
   "cell_type": "markdown",
   "metadata": {},
   "source": [
    "## Output dataset containing users that have rated AND tagged a movie."
   ]
  },
  {
   "cell_type": "code",
   "execution_count": 23,
   "metadata": {},
   "outputs": [
    {
     "name": "stdout",
     "output_type": "stream",
     "text": [
      "+-------+------+------+---------+------+---+---------+\n",
      "|movieId|userId|rating|timestamp|userId|tag|timestamp|\n",
      "+-------+------+------+---------+------+---+---------+\n",
      "+-------+------+------+---------+------+---+---------+\n",
      "\n"
     ]
    }
   ],
   "source": [
    "\n",
    "users_who_rated_and_tagged = ratingsdf.join(tagsdf,['movieId'],how=\"inner\")\n",
    "\n",
    "users_who_rated_and_tagged.filter(col('rating').isNull()).show()"
   ]
  },
  {
   "cell_type": "code",
   "execution_count": null,
   "metadata": {},
   "outputs": [],
   "source": []
  },
  {
   "cell_type": "code",
   "execution_count": null,
   "metadata": {},
   "outputs": [],
   "source": []
  },
  {
   "cell_type": "code",
   "execution_count": null,
   "metadata": {},
   "outputs": [],
   "source": []
  },
  {
   "cell_type": "markdown",
   "metadata": {},
   "source": [
    "# Problem 7"
   ]
  },
  {
   "cell_type": "markdown",
   "metadata": {},
   "source": [
    "## Describe how you would ﬁnd the release year for a movie (refer to the readme for information)."
   ]
  },
  {
   "cell_type": "code",
   "execution_count": 16,
   "metadata": {},
   "outputs": [],
   "source": [
    "def get_year(movieName):\n",
    "    result = re.findall(r'.*([1-3][0-9]{3})',movieName)\n",
    "    if result:\n",
    "        return int(result[0])\n",
    "    else:\n",
    "        return None\n",
    "    \n",
    "get_year_udf = udf(lambda z: get_year(z),IntegerType())"
   ]
  },
  {
   "cell_type": "markdown",
   "metadata": {},
   "source": [
    "##  Solution"
   ]
  },
  {
   "cell_type": "code",
   "execution_count": 17,
   "metadata": {
    "scrolled": false
   },
   "outputs": [
    {
     "name": "stdout",
     "output_type": "stream",
     "text": [
      "+-------+--------------------+----+\n",
      "|movieId|               title|Year|\n",
      "+-------+--------------------+----+\n",
      "|      1|    Toy Story (1995)|1995|\n",
      "|      2|      Jumanji (1995)|1995|\n",
      "|      3|Grumpier Old Men ...|1995|\n",
      "|      4|Waiting to Exhale...|1995|\n",
      "|      5|Father of the Bri...|1995|\n",
      "|      6|         Heat (1995)|1995|\n",
      "|      7|      Sabrina (1995)|1995|\n",
      "|      8| Tom and Huck (1995)|1995|\n",
      "|      9| Sudden Death (1995)|1995|\n",
      "|     10|    GoldenEye (1995)|1995|\n",
      "|     11|American Presiden...|1995|\n",
      "|     12|Dracula: Dead and...|1995|\n",
      "|     13|        Balto (1995)|1995|\n",
      "|     14|        Nixon (1995)|1995|\n",
      "|     15|Cutthroat Island ...|1995|\n",
      "|     16|       Casino (1995)|1995|\n",
      "|     17|Sense and Sensibi...|1995|\n",
      "|     18|   Four Rooms (1995)|1995|\n",
      "|     19|Ace Ventura: When...|1995|\n",
      "|     20|  Money Train (1995)|1995|\n",
      "+-------+--------------------+----+\n",
      "only showing top 20 rows\n",
      "\n"
     ]
    }
   ],
   "source": [
    "moviesdf.select('movieId','title',get_year_udf('title').alias('Year')).show()"
   ]
  },
  {
   "cell_type": "code",
   "execution_count": null,
   "metadata": {},
   "outputs": [],
   "source": []
  },
  {
   "cell_type": "markdown",
   "metadata": {},
   "source": [
    "# Problem 8"
   ]
  },
  {
   "cell_type": "markdown",
   "metadata": {},
   "source": [
    "## Enrich movies dataset with extract the release year. Output the enriched dataset."
   ]
  },
  {
   "cell_type": "markdown",
   "metadata": {},
   "source": [
    "## SOlution"
   ]
  },
  {
   "cell_type": "code",
   "execution_count": 18,
   "metadata": {
    "scrolled": true
   },
   "outputs": [],
   "source": [
    "moviesdf_with_year = moviesdf.withColumn('Year',get_year_udf(col('title')))"
   ]
  },
  {
   "cell_type": "code",
   "execution_count": 19,
   "metadata": {
    "scrolled": true
   },
   "outputs": [
    {
     "name": "stdout",
     "output_type": "stream",
     "text": [
      "+-------+--------------------+--------------------+----+\n",
      "|movieId|               title|              genres|Year|\n",
      "+-------+--------------------+--------------------+----+\n",
      "|      1|    Toy Story (1995)|Adventure|Animati...|1995|\n",
      "|      2|      Jumanji (1995)|Adventure|Childre...|1995|\n",
      "|      3|Grumpier Old Men ...|      Comedy|Romance|1995|\n",
      "|      4|Waiting to Exhale...|Comedy|Drama|Romance|1995|\n",
      "|      5|Father of the Bri...|              Comedy|1995|\n",
      "+-------+--------------------+--------------------+----+\n",
      "only showing top 5 rows\n",
      "\n"
     ]
    }
   ],
   "source": [
    "moviesdf_with_year.show(5)"
   ]
  },
  {
   "cell_type": "code",
   "execution_count": null,
   "metadata": {},
   "outputs": [],
   "source": []
  },
  {
   "cell_type": "markdown",
   "metadata": {},
   "source": [
    "# Problem 9"
   ]
  },
  {
   "cell_type": "markdown",
   "metadata": {},
   "source": [
    "##  Output dataset showing the number of movies per Genre per Year (movies will be counted many times if it's associated with multiple genres). "
   ]
  },
  {
   "cell_type": "code",
   "execution_count": null,
   "metadata": {},
   "outputs": [],
   "source": [
    "moviesdf_genres_with_year.groupBy('genre','Year')"
   ]
  },
  {
   "cell_type": "code",
   "execution_count": null,
   "metadata": {
    "scrolled": false
   },
   "outputs": [],
   "source": [
    "moviesdf_with_year.show(5)"
   ]
  },
  {
   "cell_type": "code",
   "execution_count": null,
   "metadata": {
    "scrolled": false
   },
   "outputs": [],
   "source": [
    "moviesdf_with_year.describe().show()"
   ]
  },
  {
   "cell_type": "code",
   "execution_count": null,
   "metadata": {},
   "outputs": [],
   "source": [
    "moviesdf_with_year.summary().show()"
   ]
  },
  {
   "cell_type": "code",
   "execution_count": null,
   "metadata": {},
   "outputs": [],
   "source": []
  },
  {
   "cell_type": "code",
   "execution_count": null,
   "metadata": {},
   "outputs": [],
   "source": []
  },
  {
   "cell_type": "code",
   "execution_count": null,
   "metadata": {},
   "outputs": [],
   "source": []
  },
  {
   "cell_type": "code",
   "execution_count": null,
   "metadata": {},
   "outputs": [],
   "source": []
  },
  {
   "cell_type": "code",
   "execution_count": null,
   "metadata": {},
   "outputs": [],
   "source": []
  },
  {
   "cell_type": "markdown",
   "metadata": {},
   "source": [
    "# Problem 10"
   ]
  },
  {
   "cell_type": "markdown",
   "metadata": {},
   "source": [
    "## Describe how you would write tests to ensure that all movies have a release year? Write these tests"
   ]
  },
  {
   "cell_type": "code",
   "execution_count": null,
   "metadata": {},
   "outputs": [],
   "source": [
    "movies_with_year =  moviesdf_with_year.select('year').where(col('year').isNotNull()).count()"
   ]
  },
  {
   "cell_type": "code",
   "execution_count": null,
   "metadata": {},
   "outputs": [],
   "source": [
    "movies_without_release_year = moviesdf_with_year.select('year').where(col('year').isNull()).count()"
   ]
  },
  {
   "cell_type": "code",
   "execution_count": null,
   "metadata": {},
   "outputs": [],
   "source": [
    "movies_without_release_year"
   ]
  },
  {
   "cell_type": "code",
   "execution_count": null,
   "metadata": {},
   "outputs": [],
   "source": []
  },
  {
   "cell_type": "code",
   "execution_count": null,
   "metadata": {},
   "outputs": [],
   "source": []
  },
  {
   "cell_type": "markdown",
   "metadata": {},
   "source": [
    "# Problem 11"
   ]
  },
  {
   "cell_type": "markdown",
   "metadata": {},
   "source": [
    "##  Write tests to ensure that the rating & tag happened on or after the year that the movie was released (here we can only check the release year against the year of rating & tag)."
   ]
  },
  {
   "cell_type": "code",
   "execution_count": 2,
   "metadata": {},
   "outputs": [],
   "source": [
    "def epoch_to_datetime(x):\n",
    "    return time.localtime(int(x)).tm_year"
   ]
  },
  {
   "cell_type": "code",
   "execution_count": 3,
   "metadata": {},
   "outputs": [],
   "source": [
    "epoch_to_datetime_udf = udf(lambda z: epoch_to_datetime(z) ,IntegerType())"
   ]
  },
  {
   "cell_type": "code",
   "execution_count": 4,
   "metadata": {},
   "outputs": [],
   "source": [
    "ratingsdf_with_year = ratingsdf.withColumn(\"ratings_year\",epoch_to_datetime_udf(col('timestamp')))\n",
    "tagsdf_with_year = tagsdf.withColumn(\"tags_year\",epoch_to_datetime_udf(col('timestamp')))"
   ]
  },
  {
   "cell_type": "code",
   "execution_count": 24,
   "metadata": {
    "scrolled": true
   },
   "outputs": [
    {
     "name": "stdout",
     "output_type": "stream",
     "text": [
      "+-------+------+------+----------+------------+------+-------+----------+---------+\n",
      "|movieId|userId|rating| timestamp|ratings_year|userId|    tag| timestamp|tags_year|\n",
      "+-------+------+------+----------+------------+------+-------+----------+---------+\n",
      "| 100553|   105|   4.5|1446572398|        2015|  null|   null|      null|     null|\n",
      "| 100553|   318|   4.5|1426353247|        2015|  null|   null|      null|     null|\n",
      "| 102684|   249|   3.5|1376654552|        2013|  null|   null|      null|     null|\n",
      "| 102684|   380|   4.0|1494709199|        2017|  null|   null|      null|     null|\n",
      "|   1090|     1|   4.0| 964984018|        2000|   474|Vietnam|1138137990|     2006|\n",
      "+-------+------+------+----------+------------+------+-------+----------+---------+\n",
      "only showing top 5 rows\n",
      "\n"
     ]
    }
   ],
   "source": [
    "ratingsdf_with_year.join( tagsdf_with_year, ['movieId'],how='full').show(5)"
   ]
  },
  {
   "cell_type": "code",
   "execution_count": 26,
   "metadata": {},
   "outputs": [
    {
     "name": "stdout",
     "output_type": "stream",
     "text": [
      "+------+-------+---+---------+\n",
      "|userId|movieId|tag|timestamp|\n",
      "+------+-------+---+---------+\n",
      "+------+-------+---+---------+\n",
      "\n"
     ]
    },
    {
     "name": "stderr",
     "output_type": "stream",
     "text": [
      "----------------------------------------\n",
      "Exception happened during processing of request from ('127.0.0.1', 33284)\n",
      "Traceback (most recent call last):\n",
      "  File \"/usr/lib/python3.6/socketserver.py\", line 320, in _handle_request_noblock\n",
      "    self.process_request(request, client_address)\n",
      "  File \"/usr/lib/python3.6/socketserver.py\", line 351, in process_request\n",
      "    self.finish_request(request, client_address)\n",
      "  File \"/usr/lib/python3.6/socketserver.py\", line 364, in finish_request\n",
      "    self.RequestHandlerClass(request, client_address, self)\n",
      "  File \"/usr/lib/python3.6/socketserver.py\", line 724, in __init__\n",
      "    self.handle()\n",
      "  File \"/home/spark/Documents/spark/spark-2.4.5-bin-hadoop2.7/python/pyspark/accumulators.py\", line 269, in handle\n",
      "    poll(accum_updates)\n",
      "  File \"/home/spark/Documents/spark/spark-2.4.5-bin-hadoop2.7/python/pyspark/accumulators.py\", line 241, in poll\n",
      "    if func():\n",
      "  File \"/home/spark/Documents/spark/spark-2.4.5-bin-hadoop2.7/python/pyspark/accumulators.py\", line 245, in accum_updates\n",
      "    num_updates = read_int(self.rfile)\n",
      "  File \"/home/spark/Documents/spark/spark-2.4.5-bin-hadoop2.7/python/pyspark/serializers.py\", line 724, in read_int\n",
      "    raise EOFError\n",
      "EOFError\n",
      "----------------------------------------\n"
     ]
    }
   ],
   "source": [
    "tagsdf.filter((col('movieId')==1090) & (col('userId')==1)).show()"
   ]
  },
  {
   "cell_type": "code",
   "execution_count": null,
   "metadata": {
    "scrolled": true
   },
   "outputs": [],
   "source": [
    "ratingsdf_with_year.show(5)"
   ]
  },
  {
   "cell_type": "code",
   "execution_count": null,
   "metadata": {},
   "outputs": [],
   "source": [
    "tagsdf_with_year.show(5)"
   ]
  },
  {
   "cell_type": "code",
   "execution_count": null,
   "metadata": {},
   "outputs": [],
   "source": [
    "moviesdf_with_year.show(5)"
   ]
  },
  {
   "cell_type": "code",
   "execution_count": null,
   "metadata": {},
   "outputs": [],
   "source": [
    "moviesdf_genres_with_year = moviesdf_with_year.withColumn(\"genres\", f.explode(f.split(\"genres\",\"[|]\")))"
   ]
  },
  {
   "cell_type": "code",
   "execution_count": null,
   "metadata": {},
   "outputs": [],
   "source": [
    "moviesdf_genres_with_year.show(5)"
   ]
  },
  {
   "cell_type": "code",
   "execution_count": null,
   "metadata": {},
   "outputs": [],
   "source": []
  },
  {
   "cell_type": "code",
   "execution_count": null,
   "metadata": {
    "scrolled": true
   },
   "outputs": [],
   "source": [
    "moviesdf_genres_with_year.groupBy('genres','year').count().show()"
   ]
  },
  {
   "cell_type": "markdown",
   "metadata": {},
   "source": [
    "## With Genre"
   ]
  },
  {
   "cell_type": "code",
   "execution_count": null,
   "metadata": {},
   "outputs": [],
   "source": [
    "moviesandratingsdf = moviesdf_genres_with_year.join(ratingsdf_with_year , moviesdf_genres_with_year.movieId==ratingsdf_with_year.movieId).drop(ratingsdf_with_year.movieId)"
   ]
  },
  {
   "cell_type": "markdown",
   "metadata": {},
   "source": [
    "##  Without Genre"
   ]
  },
  {
   "cell_type": "code",
   "execution_count": null,
   "metadata": {},
   "outputs": [],
   "source": [
    "moviesandratingsdf = moviesdf_with_year.join(ratingsdf_with_year , moviesdf_with_year.movieId==ratingsdf_with_year.movieId).drop(ratingsdf_with_year.movieId)"
   ]
  },
  {
   "cell_type": "code",
   "execution_count": null,
   "metadata": {
    "scrolled": true
   },
   "outputs": [],
   "source": [
    "moviesandratingsdf.show(5)"
   ]
  },
  {
   "cell_type": "markdown",
   "metadata": {},
   "source": [
    "###  Movies whose ratings were given after release"
   ]
  },
  {
   "cell_type": "code",
   "execution_count": null,
   "metadata": {
    "scrolled": true
   },
   "outputs": [],
   "source": [
    "moviesandratingsdf.filter(col('Year')<=col('ratings_year')).show(5)"
   ]
  },
  {
   "cell_type": "markdown",
   "metadata": {},
   "source": [
    "###  Movies whose ratings were given before release"
   ]
  },
  {
   "cell_type": "code",
   "execution_count": null,
   "metadata": {
    "scrolled": true
   },
   "outputs": [],
   "source": [
    "moviesandratingsdf.filter(col('Year')>col('ratings_year')).show(5)"
   ]
  },
  {
   "cell_type": "code",
   "execution_count": null,
   "metadata": {},
   "outputs": [],
   "source": [
    "tagsdf_with_year.show(5)"
   ]
  },
  {
   "cell_type": "code",
   "execution_count": null,
   "metadata": {},
   "outputs": [],
   "source": []
  },
  {
   "cell_type": "markdown",
   "metadata": {},
   "source": [
    "## Movies Ang Tags Together"
   ]
  },
  {
   "cell_type": "code",
   "execution_count": 20,
   "metadata": {},
   "outputs": [
    {
     "ename": "NameError",
     "evalue": "name 'moviesdf_genres_with_year' is not defined",
     "output_type": "error",
     "traceback": [
      "\u001b[0;31m---------------------------------------------------------------------------\u001b[0m",
      "\u001b[0;31mNameError\u001b[0m                                 Traceback (most recent call last)",
      "\u001b[0;32m<ipython-input-20-03ce5b9e9d75>\u001b[0m in \u001b[0;36m<module>\u001b[0;34m\u001b[0m\n\u001b[0;32m----> 1\u001b[0;31m \u001b[0mmoviesandtagsdf\u001b[0m \u001b[0;34m=\u001b[0m \u001b[0mmoviesdf_genres_with_year\u001b[0m\u001b[0;34m.\u001b[0m\u001b[0mjoin\u001b[0m\u001b[0;34m(\u001b[0m\u001b[0mtagsdf_with_year\u001b[0m \u001b[0;34m,\u001b[0m \u001b[0mmoviesdf_genres_with_year\u001b[0m\u001b[0;34m.\u001b[0m\u001b[0mmovieId\u001b[0m\u001b[0;34m==\u001b[0m\u001b[0mtagsdf_with_year\u001b[0m\u001b[0;34m.\u001b[0m\u001b[0mmovieId\u001b[0m\u001b[0;34m)\u001b[0m\u001b[0;34m.\u001b[0m\u001b[0mdrop\u001b[0m\u001b[0;34m(\u001b[0m\u001b[0mtagsdf_with_year\u001b[0m\u001b[0;34m.\u001b[0m\u001b[0mmovieId\u001b[0m\u001b[0;34m)\u001b[0m\u001b[0;34m\u001b[0m\u001b[0;34m\u001b[0m\u001b[0m\n\u001b[0m",
      "\u001b[0;31mNameError\u001b[0m: name 'moviesdf_genres_with_year' is not defined"
     ]
    }
   ],
   "source": [
    "moviesandtagsdf = moviesdf_genres_with_year.join(tagsdf_with_year , moviesdf_genres_with_year.movieId==tagsdf_with_year.movieId).drop(tagsdf_with_year.movieId)"
   ]
  },
  {
   "cell_type": "code",
   "execution_count": null,
   "metadata": {
    "scrolled": false
   },
   "outputs": [],
   "source": [
    "moviesandtagsdf.show(5)"
   ]
  },
  {
   "cell_type": "markdown",
   "metadata": {},
   "source": [
    "### Movies whose ratings were given after release"
   ]
  },
  {
   "cell_type": "code",
   "execution_count": null,
   "metadata": {
    "scrolled": true
   },
   "outputs": [],
   "source": [
    "moviesandtagsdf.filter(col('Year')<=col('tags_year')).show(5)"
   ]
  },
  {
   "cell_type": "markdown",
   "metadata": {},
   "source": [
    "### Movies whose ratings were given before release"
   ]
  },
  {
   "cell_type": "code",
   "execution_count": null,
   "metadata": {
    "scrolled": true
   },
   "outputs": [],
   "source": [
    "moviesandtagsdf.filter(col('Year')>col('tags_year')).show(5)"
   ]
  },
  {
   "cell_type": "code",
   "execution_count": null,
   "metadata": {},
   "outputs": [],
   "source": []
  },
  {
   "cell_type": "markdown",
   "metadata": {},
   "source": [
    "# Problem 12"
   ]
  },
  {
   "cell_type": "markdown",
   "metadata": {},
   "source": [
    "##  Write tests to ensure that at least 50% of movies have more than one genres."
   ]
  },
  {
   "cell_type": "code",
   "execution_count": null,
   "metadata": {
    "scrolled": true
   },
   "outputs": [],
   "source": [
    "moviesdf_genres_with_year.show(5)"
   ]
  },
  {
   "cell_type": "code",
   "execution_count": null,
   "metadata": {
    "scrolled": false
   },
   "outputs": [],
   "source": [
    "moviesandtagsdf.select('movieId').distinct().count()"
   ]
  },
  {
   "cell_type": "code",
   "execution_count": null,
   "metadata": {},
   "outputs": [],
   "source": [
    "moviesdf_genres_with_year.groupBy('movieId').count().filter(col('count') > 1).show()"
   ]
  },
  {
   "cell_type": "markdown",
   "metadata": {},
   "source": [
    "## Movies with more than 1 Genres"
   ]
  },
  {
   "cell_type": "code",
   "execution_count": null,
   "metadata": {
    "scrolled": true
   },
   "outputs": [],
   "source": [
    "moviesdf_genres_with_year.groupBy('movieId').count().filter(col('count') > 1).count()"
   ]
  },
  {
   "cell_type": "code",
   "execution_count": null,
   "metadata": {},
   "outputs": [],
   "source": [
    "movies_with_atleast_1_genres = moviesdf_genres_with_year.groupBy('movieId').count().filter(col('count') > 1).count()"
   ]
  },
  {
   "cell_type": "code",
   "execution_count": null,
   "metadata": {},
   "outputs": [],
   "source": [
    "moviesdf_genres_with_year.groupBy('movieId').count().show()"
   ]
  },
  {
   "cell_type": "markdown",
   "metadata": {},
   "source": [
    "### All Movies with Genres Count"
   ]
  },
  {
   "cell_type": "code",
   "execution_count": null,
   "metadata": {},
   "outputs": [],
   "source": [
    "all_movies = moviesdf.count()"
   ]
  },
  {
   "cell_type": "code",
   "execution_count": null,
   "metadata": {},
   "outputs": [],
   "source": [
    "all_movies"
   ]
  },
  {
   "cell_type": "markdown",
   "metadata": {},
   "source": [
    "###  So % of movies with atleast 1 Genres"
   ]
  },
  {
   "cell_type": "code",
   "execution_count": null,
   "metadata": {},
   "outputs": [],
   "source": [
    "(movies_with_atleast_1_genres/all_movies)*100"
   ]
  },
  {
   "cell_type": "code",
   "execution_count": null,
   "metadata": {},
   "outputs": [],
   "source": []
  },
  {
   "cell_type": "code",
   "execution_count": null,
   "metadata": {},
   "outputs": [],
   "source": []
  },
  {
   "cell_type": "code",
   "execution_count": null,
   "metadata": {
    "scrolled": true
   },
   "outputs": [],
   "source": [
    "df.filter((col(\"rating\") == 5 )).select('movieId','rating').distinct().show()"
   ]
  },
  {
   "cell_type": "code",
   "execution_count": null,
   "metadata": {},
   "outputs": [],
   "source": [
    "moviesdf = spark.read.csv(\"/home/spark/Documents/spark/Dataset/ml-25m/movies.csv\" , header=True)"
   ]
  },
  {
   "cell_type": "code",
   "execution_count": null,
   "metadata": {},
   "outputs": [],
   "source": [
    "moviesdf.columns"
   ]
  },
  {
   "cell_type": "code",
   "execution_count": null,
   "metadata": {},
   "outputs": [],
   "source": [
    "moviesdf.filter((col(\"movieId\").isin([1,2,3,4]))).show()"
   ]
  },
  {
   "cell_type": "code",
   "execution_count": null,
   "metadata": {},
   "outputs": [],
   "source": [
    "moviesdf.filter((col(\"genres\").isin(['Comedy,Romance']))).show()"
   ]
  },
  {
   "cell_type": "code",
   "execution_count": null,
   "metadata": {},
   "outputs": [],
   "source": [
    "moviesdf.filter((col(\"genres\").isin(['Comedy,Romance']))).show()"
   ]
  },
  {
   "cell_type": "code",
   "execution_count": null,
   "metadata": {},
   "outputs": [],
   "source": [
    "moviesdf.where(filter_func(['comedy','romance'],(col('geners'))))"
   ]
  },
  {
   "cell_type": "code",
   "execution_count": null,
   "metadata": {},
   "outputs": [],
   "source": [
    "ratingsdf.groupBy('movieId').count().show(5)"
   ]
  },
  {
   "cell_type": "code",
   "execution_count": null,
   "metadata": {},
   "outputs": [],
   "source": [
    "ratingsdf.groupBy('movieId').sum().show(5)"
   ]
  },
  {
   "cell_type": "code",
   "execution_count": null,
   "metadata": {},
   "outputs": [],
   "source": [
    "moviesdf.select('title').show(5)"
   ]
  },
  {
   "cell_type": "code",
   "execution_count": null,
   "metadata": {},
   "outputs": [],
   "source": []
  }
 ],
 "metadata": {
  "kernelspec": {
   "display_name": "Python 3",
   "language": "python",
   "name": "python3"
  },
  "language_info": {
   "codemirror_mode": {
    "name": "ipython",
    "version": 3
   },
   "file_extension": ".py",
   "mimetype": "text/x-python",
   "name": "python",
   "nbconvert_exporter": "python",
   "pygments_lexer": "ipython3",
   "version": "3.6.9"
  }
 },
 "nbformat": 4,
 "nbformat_minor": 4
}
